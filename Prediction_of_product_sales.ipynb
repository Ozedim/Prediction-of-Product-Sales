{
  "nbformat": 4,
  "nbformat_minor": 0,
  "metadata": {
    "colab": {
      "provenance": [],
      "authorship_tag": "ABX9TyNGd/JaDEnhwl3BVbRoRpZa",
      "include_colab_link": true
    },
    "kernelspec": {
      "name": "python3",
      "display_name": "Python 3"
    },
    "language_info": {
      "name": "python"
    }
  },
  "cells": [
    {
      "cell_type": "markdown",
      "metadata": {
        "id": "view-in-github",
        "colab_type": "text"
      },
      "source": [
        "<a href=\"https://colab.research.google.com/github/Ozedim/Prediction-of-Product-Sales/blob/main/Prediction_of_product_sales.ipynb\" target=\"_parent\"><img src=\"https://colab.research.google.com/assets/colab-badge.svg\" alt=\"Open In Colab\"/></a>"
      ]
    },
    {
      "cell_type": "code",
      "execution_count": null,
      "metadata": {
        "id": "c2gdXM-U_0oR"
      },
      "outputs": [],
      "source": []
    },
    {
      "cell_type": "markdown",
      "source": [
        "#PREDICTION OF PRODUCT SALES\n"
      ],
      "metadata": {
        "id": "Mmh_x5CsAbCN"
      }
    },
    {
      "cell_type": "markdown",
      "source": [
        "\"\" Author: Ogwang Trevor Eddie"
      ],
      "metadata": {
        "id": "qXgybXBNCJ9H"
      }
    },
    {
      "cell_type": "markdown",
      "source": [
        "## Project Overview\n"
      ],
      "metadata": {
        "id": "7PhyAbb4C9ah"
      }
    },
    {
      "cell_type": "code",
      "source": [
        "in[]"
      ],
      "metadata": {
        "id": "dBiyGfiRFpHG"
      },
      "execution_count": null,
      "outputs": []
    },
    {
      "cell_type": "markdown",
      "source": [
        "##Load and Inspect Data"
      ],
      "metadata": {
        "id": "h8ItiZNWDOs4"
      }
    },
    {
      "cell_type": "code",
      "source": [
        "in[]"
      ],
      "metadata": {
        "id": "5m7C32WqF4eW"
      },
      "execution_count": null,
      "outputs": []
    },
    {
      "cell_type": "markdown",
      "source": [
        "##Clean Data"
      ],
      "metadata": {
        "id": "kBaMtomWDZH0"
      }
    },
    {
      "cell_type": "code",
      "source": [
        "in[]"
      ],
      "metadata": {
        "id": "J6Hx1Tv7GBdm"
      },
      "execution_count": null,
      "outputs": []
    },
    {
      "cell_type": "markdown",
      "source": [
        "##Exploratory Data Analysis\n",
        "\n",
        "\n",
        "> Indented block\n",
        "\n"
      ],
      "metadata": {
        "id": "bZ_OrjfgDjFr"
      }
    },
    {
      "cell_type": "code",
      "source": [
        "in[]"
      ],
      "metadata": {
        "id": "3U_bsyZVGN7J"
      },
      "execution_count": null,
      "outputs": []
    },
    {
      "cell_type": "markdown",
      "source": [
        "##Feature Inspection\n"
      ],
      "metadata": {
        "id": "FKVzKKW4DrDN"
      }
    },
    {
      "cell_type": "code",
      "source": [
        "in[]"
      ],
      "metadata": {
        "id": "9G9VS31qGSrn"
      },
      "execution_count": null,
      "outputs": []
    },
    {
      "cell_type": "markdown",
      "source": [],
      "metadata": {
        "id": "Y8QAn6XVDyc4"
      }
    },
    {
      "cell_type": "markdown",
      "source": [],
      "metadata": {
        "id": "0jMchVttA4w4"
      }
    }
  ]
}